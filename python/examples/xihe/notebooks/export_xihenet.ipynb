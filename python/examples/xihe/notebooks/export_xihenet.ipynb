{
 "cells": [
  {
   "cell_type": "code",
   "execution_count": 1,
   "metadata": {},
   "outputs": [],
   "source": [
    "import torch"
   ]
  },
  {
   "cell_type": "code",
   "execution_count": 2,
   "metadata": {},
   "outputs": [],
   "source": [
    "mps = torch.device(\"mps\")"
   ]
  },
  {
   "cell_type": "code",
   "execution_count": 6,
   "metadata": {},
   "outputs": [],
   "source": [
    "model = torch.jit.load(\"../xihenet.pt\")"
   ]
  },
  {
   "cell_type": "code",
   "execution_count": 7,
   "metadata": {},
   "outputs": [
    {
     "data": {
      "text/plain": [
       "RecursiveScriptModule(\n",
       "  original_name=XiheNet\n",
       "  (sa1): RecursiveScriptModule(\n",
       "    original_name=PointConvDensitySetAbstraction\n",
       "    (mlp_convs): RecursiveScriptModule(\n",
       "      original_name=ModuleList\n",
       "      (0): RecursiveScriptModule(original_name=Conv2d)\n",
       "      (1): RecursiveScriptModule(original_name=Conv2d)\n",
       "    )\n",
       "    (mlp_bns): RecursiveScriptModule(\n",
       "      original_name=ModuleList\n",
       "      (0): RecursiveScriptModule(original_name=BatchNorm2d)\n",
       "      (1): RecursiveScriptModule(original_name=BatchNorm2d)\n",
       "    )\n",
       "    (weightnet): RecursiveScriptModule(\n",
       "      original_name=WeightNet\n",
       "      (mlp_convs): RecursiveScriptModule(\n",
       "        original_name=ModuleList\n",
       "        (0): RecursiveScriptModule(original_name=Conv2d)\n",
       "        (1): RecursiveScriptModule(original_name=Conv2d)\n",
       "        (2): RecursiveScriptModule(original_name=Conv2d)\n",
       "      )\n",
       "      (mlp_bns): RecursiveScriptModule(\n",
       "        original_name=ModuleList\n",
       "        (0): RecursiveScriptModule(original_name=BatchNorm2d)\n",
       "        (1): RecursiveScriptModule(original_name=BatchNorm2d)\n",
       "        (2): RecursiveScriptModule(original_name=BatchNorm2d)\n",
       "      )\n",
       "    )\n",
       "    (linear): RecursiveScriptModule(original_name=Linear)\n",
       "    (bn_linear): RecursiveScriptModule(original_name=BatchNorm1d)\n",
       "    (densitynet): RecursiveScriptModule(\n",
       "      original_name=DensityNet\n",
       "      (mlp_convs): RecursiveScriptModule(\n",
       "        original_name=ModuleList\n",
       "        (0): RecursiveScriptModule(original_name=Conv2d)\n",
       "        (1): RecursiveScriptModule(original_name=Conv2d)\n",
       "        (2): RecursiveScriptModule(original_name=Conv2d)\n",
       "      )\n",
       "      (mlp_bns): RecursiveScriptModule(\n",
       "        original_name=ModuleList\n",
       "        (0): RecursiveScriptModule(original_name=BatchNorm2d)\n",
       "        (1): RecursiveScriptModule(original_name=BatchNorm2d)\n",
       "        (2): RecursiveScriptModule(original_name=BatchNorm2d)\n",
       "      )\n",
       "    )\n",
       "  )\n",
       "  (sa2): RecursiveScriptModule(\n",
       "    original_name=PointConvDensitySetAbstraction\n",
       "    (mlp_convs): RecursiveScriptModule(\n",
       "      original_name=ModuleList\n",
       "      (0): RecursiveScriptModule(original_name=Conv2d)\n",
       "      (1): RecursiveScriptModule(original_name=Conv2d)\n",
       "    )\n",
       "    (mlp_bns): RecursiveScriptModule(\n",
       "      original_name=ModuleList\n",
       "      (0): RecursiveScriptModule(original_name=BatchNorm2d)\n",
       "      (1): RecursiveScriptModule(original_name=BatchNorm2d)\n",
       "    )\n",
       "    (weightnet): RecursiveScriptModule(\n",
       "      original_name=WeightNet\n",
       "      (mlp_convs): RecursiveScriptModule(\n",
       "        original_name=ModuleList\n",
       "        (0): RecursiveScriptModule(original_name=Conv2d)\n",
       "        (1): RecursiveScriptModule(original_name=Conv2d)\n",
       "        (2): RecursiveScriptModule(original_name=Conv2d)\n",
       "      )\n",
       "      (mlp_bns): RecursiveScriptModule(\n",
       "        original_name=ModuleList\n",
       "        (0): RecursiveScriptModule(original_name=BatchNorm2d)\n",
       "        (1): RecursiveScriptModule(original_name=BatchNorm2d)\n",
       "        (2): RecursiveScriptModule(original_name=BatchNorm2d)\n",
       "      )\n",
       "    )\n",
       "    (linear): RecursiveScriptModule(original_name=Linear)\n",
       "    (bn_linear): RecursiveScriptModule(original_name=BatchNorm1d)\n",
       "    (densitynet): RecursiveScriptModule(\n",
       "      original_name=DensityNet\n",
       "      (mlp_convs): RecursiveScriptModule(\n",
       "        original_name=ModuleList\n",
       "        (0): RecursiveScriptModule(original_name=Conv2d)\n",
       "        (1): RecursiveScriptModule(original_name=Conv2d)\n",
       "        (2): RecursiveScriptModule(original_name=Conv2d)\n",
       "      )\n",
       "      (mlp_bns): RecursiveScriptModule(\n",
       "        original_name=ModuleList\n",
       "        (0): RecursiveScriptModule(original_name=BatchNorm2d)\n",
       "        (1): RecursiveScriptModule(original_name=BatchNorm2d)\n",
       "        (2): RecursiveScriptModule(original_name=BatchNorm2d)\n",
       "      )\n",
       "    )\n",
       "  )\n",
       "  (fc3): RecursiveScriptModule(original_name=Linear)\n",
       "  (bn3): RecursiveScriptModule(original_name=BatchNorm1d)\n",
       "  (drop3): RecursiveScriptModule(original_name=Dropout)\n",
       "  (fc4): RecursiveScriptModule(original_name=Linear)\n",
       "  (bn4): RecursiveScriptModule(original_name=BatchNorm1d)\n",
       "  (drop4): RecursiveScriptModule(original_name=Dropout)\n",
       "  (fc5): RecursiveScriptModule(original_name=Linear)\n",
       ")"
      ]
     },
     "execution_count": 7,
     "metadata": {},
     "output_type": "execute_result"
    }
   ],
   "source": [
    "model.eval()\n",
    "# model.to(mps)"
   ]
  },
  {
   "cell_type": "code",
   "execution_count": 8,
   "metadata": {},
   "outputs": [],
   "source": [
    "pcd, clr = torch.zeros(1, 3, 1280), torch.zeros(1, 3, 1280)\n",
    "# pcd, clr = pcd.to(mps), clr.to(mps)"
   ]
  },
  {
   "cell_type": "code",
   "execution_count": 9,
   "metadata": {},
   "outputs": [
    {
     "name": "stdout",
     "output_type": "stream",
     "text": [
      "90.2 ms ± 42.2 ms per loop (mean ± std. dev. of 7 runs, 1 loop each)\n"
     ]
    }
   ],
   "source": [
    "%%timeit\n",
    "model(pcd, clr)"
   ]
  },
  {
   "cell_type": "code",
   "execution_count": null,
   "metadata": {},
   "outputs": [],
   "source": []
  }
 ],
 "metadata": {
  "kernelspec": {
   "display_name": "rerun_ar",
   "language": "python",
   "name": "python3"
  },
  "language_info": {
   "codemirror_mode": {
    "name": "ipython",
    "version": 3
   },
   "file_extension": ".py",
   "mimetype": "text/x-python",
   "name": "python",
   "nbconvert_exporter": "python",
   "pygments_lexer": "ipython3",
   "version": "3.10.13"
  }
 },
 "nbformat": 4,
 "nbformat_minor": 2
}
